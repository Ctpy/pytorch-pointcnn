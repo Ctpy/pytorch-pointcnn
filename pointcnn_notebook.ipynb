{
 "cells": [
  {
   "cell_type": "code",
   "execution_count": 1,
   "metadata": {
    "collapsed": true
   },
   "outputs": [],
   "source": [
    "from dataloader.dlo_dataloader import DLOModule"
   ]
  },
  {
   "cell_type": "code",
   "execution_count": 2,
   "outputs": [],
   "source": [
    "LABEL_PATH = \"F:\\wire_hareness_dataset\\data\\labels\\set2\"\n",
    "dl = DLOModule(LABEL_PATH, batch_size=1)\n",
    "dl.setup(\"fit\")"
   ],
   "metadata": {
    "collapsed": false
   }
  },
  {
   "cell_type": "code",
   "execution_count": 3,
   "outputs": [
    {
     "name": "stdout",
     "output_type": "stream",
     "text": [
      "Train batches: 1\n",
      "Val batches: 4\n"
     ]
    }
   ],
   "source": [
    "train_set = dl.train_dataloader()\n",
    "val_set = dl.val_dataloader()\n",
    "print(\"Train batches:\", len(train_set))\n",
    "print(\"Val batches:\", len(val_set))"
   ],
   "metadata": {
    "collapsed": false
   }
  },
  {
   "cell_type": "code",
   "execution_count": 4,
   "outputs": [
    {
     "name": "stderr",
     "output_type": "stream",
     "text": [
      "\u001B[34m\u001B[1mwandb\u001B[0m: Currently logged in as: \u001B[33mctpy\u001B[0m (\u001B[33mctpy-tum\u001B[0m). Use \u001B[1m`wandb login --relogin`\u001B[0m to force relogin\n"
     ]
    }
   ],
   "source": [
    "from model.pointcnn import PointCNN\n",
    "from model.pointcnn_seg import PointCNNSeg\n",
    "import pytorch_lightning as pl\n",
    "from pytorch_lightning.loggers import WandbLogger\n",
    "import torch\n",
    "import wandb\n",
    "import numpy as np\n",
    "wandb.login()\n",
    "torch.set_float32_matmul_precision('medium')\n",
    "model = None"
   ],
   "metadata": {
    "collapsed": false
   }
  },
  {
   "cell_type": "code",
   "execution_count": 7,
   "outputs": [
    {
     "data": {
      "text/plain": "<IPython.core.display.HTML object>",
      "text/html": "wandb version 0.13.10 is available!  To upgrade, please run:\n $ pip install wandb --upgrade"
     },
     "metadata": {},
     "output_type": "display_data"
    },
    {
     "data": {
      "text/plain": "<IPython.core.display.HTML object>",
      "text/html": "Tracking run with wandb version 0.13.9"
     },
     "metadata": {},
     "output_type": "display_data"
    },
    {
     "data": {
      "text/plain": "<IPython.core.display.HTML object>",
      "text/html": "Run data is saved locally in <code>.\\wandb\\run-20230208_131439-ssgtb7v4</code>"
     },
     "metadata": {},
     "output_type": "display_data"
    },
    {
     "data": {
      "text/plain": "<IPython.core.display.HTML object>",
      "text/html": "Syncing run <strong><a href=\"https://wandb.ai/ctpy-tum/lightning_logs/runs/ssgtb7v4\" target=\"_blank\">leafy-spaceship-29</a></strong> to <a href=\"https://wandb.ai/ctpy-tum/lightning_logs\" target=\"_blank\">Weights & Biases</a> (<a href=\"https://wandb.me/run\" target=\"_blank\">docs</a>)<br/>"
     },
     "metadata": {},
     "output_type": "display_data"
    },
    {
     "data": {
      "text/plain": "<IPython.core.display.HTML object>",
      "text/html": " View project at <a href=\"https://wandb.ai/ctpy-tum/lightning_logs\" target=\"_blank\">https://wandb.ai/ctpy-tum/lightning_logs</a>"
     },
     "metadata": {},
     "output_type": "display_data"
    },
    {
     "data": {
      "text/plain": "<IPython.core.display.HTML object>",
      "text/html": " View run at <a href=\"https://wandb.ai/ctpy-tum/lightning_logs/runs/ssgtb7v4\" target=\"_blank\">https://wandb.ai/ctpy-tum/lightning_logs/runs/ssgtb7v4</a>"
     },
     "metadata": {},
     "output_type": "display_data"
    }
   ],
   "source": [
    "model = PointCNN()\n",
    "model = PointCNNSeg(5)\n",
    "wandb_logger = WandbLogger()"
   ],
   "metadata": {
    "collapsed": false
   }
  },
  {
   "cell_type": "code",
   "execution_count": 9,
   "outputs": [
    {
     "name": "stderr",
     "output_type": "stream",
     "text": [
      "GPU available: True (cuda), used: True\n",
      "TPU available: False, using: 0 TPU cores\n",
      "IPU available: False, using: 0 IPUs\n",
      "HPU available: False, using: 0 HPUs\n"
     ]
    }
   ],
   "source": [
    "trainer = pl.Trainer(max_epochs=600, accelerator='gpu', devices=1, logger=wandb_logger, log_every_n_steps=1)"
   ],
   "metadata": {
    "collapsed": false
   }
  },
  {
   "cell_type": "code",
   "execution_count": 7,
   "outputs": [
    {
     "name": "stderr",
     "output_type": "stream",
     "text": [
      "LOCAL_RANK: 0 - CUDA_VISIBLE_DEVICES: [0]\n",
      "\n",
      "   | Name           | Type               | Params\n",
      "-------------------------------------------------------\n",
      "0  | conv1          | XConv              | 9.2 K \n",
      "1  | conv2          | XConv              | 42.7 K\n",
      "2  | conv3          | XConv              | 148 K \n",
      "3  | conv4          | XConv              | 512 K \n",
      "4  | conv_up4       | XConv              | 648 K \n",
      "5  | conv_up3       | XConv              | 253 K \n",
      "6  | conv_up2       | XConv              | 69.8 K\n",
      "7  | conv_up1       | XConv              | 21.9 K\n",
      "8  | mlp_out4       | Conv1d             | 262 K \n",
      "9  | mlp_out3       | Conv1d             | 65.8 K\n",
      "10 | mlp_out2       | Conv1d             | 16.5 K\n",
      "11 | mlp_out1       | Conv1d             | 4.2 K \n",
      "12 | fc_lyaer1      | Conv1d             | 8.2 K \n",
      "13 | Relu           | ReLU               | 0     \n",
      "14 | DROP           | Dropout            | 0     \n",
      "15 | fc_lyaer2      | Conv1d             | 645   \n",
      "16 | train_accuracy | MulticlassAccuracy | 0     \n",
      "17 | test_accuracy  | MulticlassAccuracy | 0     \n",
      "-------------------------------------------------------\n",
      "2.1 M     Trainable params\n",
      "0         Non-trainable params\n",
      "2.1 M     Total params\n",
      "8.261     Total estimated model params size (MB)\n",
      "C:\\Users\\Tung\\anaconda3\\envs\\pointcnn\\lib\\site-packages\\pytorch_lightning\\trainer\\connectors\\data_connector.py:224: PossibleUserWarning: The dataloader, train_dataloader, does not have many workers which may be a bottleneck. Consider increasing the value of the `num_workers` argument` (try 32 which is the number of cpus on this machine) in the `DataLoader` init to improve performance.\n",
      "  rank_zero_warn(\n"
     ]
    },
    {
     "data": {
      "text/plain": "Training: 0it [00:00, ?it/s]",
      "application/vnd.jupyter.widget-view+json": {
       "version_major": 2,
       "version_minor": 0,
       "model_id": "598c2b213a6e409ebd15a9afb4466767"
      }
     },
     "metadata": {},
     "output_type": "display_data"
    },
    {
     "name": "stderr",
     "output_type": "stream",
     "text": [
      "`Trainer.fit` stopped: `max_epochs=600` reached.\n"
     ]
    }
   ],
   "source": [
    "trainer.fit(model, train_dataloaders=train_set)"
   ],
   "metadata": {
    "collapsed": false
   }
  },
  {
   "cell_type": "code",
   "execution_count": 10,
   "outputs": [
    {
     "name": "stderr",
     "output_type": "stream",
     "text": [
      "LOCAL_RANK: 0 - CUDA_VISIBLE_DEVICES: [0]\n",
      "C:\\Users\\Tung\\anaconda3\\envs\\pointcnn\\lib\\site-packages\\pytorch_lightning\\trainer\\connectors\\data_connector.py:224: PossibleUserWarning: The dataloader, predict_dataloader 0, does not have many workers which may be a bottleneck. Consider increasing the value of the `num_workers` argument` (try 32 which is the number of cpus on this machine) in the `DataLoader` init to improve performance.\n",
      "  rank_zero_warn(\n"
     ]
    },
    {
     "data": {
      "text/plain": "Predicting: 0it [00:00, ?it/s]",
      "application/vnd.jupyter.widget-view+json": {
       "version_major": 2,
       "version_minor": 0,
       "model_id": "ff1073264cc4422d8a1f399109664f49"
      }
     },
     "metadata": {},
     "output_type": "display_data"
    }
   ],
   "source": [
    "checkpoint = torch.load(\"C:\\\\Users\\Tung\\PycharmProjects\\pointcnn\\lightning_logs\\ekh4l5px\\checkpoints\\epoch=599-step=600.ckpt\")\n",
    "model.load_state_dict(checkpoint['state_dict'])\n",
    "prediction = trainer.predict(model, dataloaders=train_set)"
   ],
   "metadata": {
    "collapsed": false
   }
  },
  {
   "cell_type": "code",
   "execution_count": 11,
   "outputs": [
    {
     "name": "stdout",
     "output_type": "stream",
     "text": [
      "[tensor([[1, 1, 0,  ..., 3, 0, 3]])]\n"
     ]
    }
   ],
   "source": [
    "print(prediction)\n",
    "prediction_labels = np.asarray(prediction[0].tolist()[0])"
   ],
   "metadata": {
    "collapsed": false
   }
  },
  {
   "cell_type": "code",
   "execution_count": 12,
   "outputs": [],
   "source": [
    "COLORS = np.array([\n",
    "    [0.5, 0.5, 0.5],         # wire\n",
    "    [1.0, 0.0, 0.0],         # endpoint\n",
    "    [0.0, 1.0, 0.0],         # bifurcation\n",
    "    [0.0, 0.0, 1.0],         # connector\n",
    "    [0.5, 0.5, 0.5]          # none\n",
    "])\n",
    "COLORS = np.array([\n",
    "    [0.5, 0.5, 0.5],         # wire\n",
    "    [1.0, 0.0, 0.0],         # endpoint\n",
    "    [0.0, 1.0, 0.0],         # bifurcation\n",
    "    [1.0, 0.0, 0.0],         # connector\n",
    "    [0.5, 0.5, 0.5]          # none\n",
    "])"
   ],
   "metadata": {
    "collapsed": false
   }
  },
  {
   "cell_type": "code",
   "execution_count": 13,
   "outputs": [
    {
     "name": "stdout",
     "output_type": "stream",
     "text": [
      "Jupyter environment detected. Enabling Open3D WebVisualizer.\n",
      "[Open3D INFO] WebRTC GUI backend enabled.\n",
      "[Open3D INFO] WebRTCWindowSystem: HTTP handshake server disabled.\n"
     ]
    }
   ],
   "source": [
    "import open3d as o3d\n",
    "def get_pcd(wh_id, sample_id, labels):\n",
    "    coords = np.load(LABEL_PATH + \"\\\\{:03d}\\\\pointclouds_normed_2048\\\\pcl_{:04d}.npy\".format(wh_id,sample_id))\n",
    "    # labels = np.load(LABEL_PATH + \"\\\\{:03d}\\\\segmentation_normed_2048\\\\seg_{:04d}.npy\".format(wh_id,sample_id))\n",
    "    pcl = o3d.geometry.PointCloud()\n",
    "    pcl.points = o3d.utility.Vector3dVector(coords)\n",
    "    pcl.colors = o3d.utility.Vector3dVector(COLORS[labels])\n",
    "\n",
    "    return pcl\n",
    "\n",
    "def visualize_pcl(o3d_pcd, path, to_screen=False):\n",
    "    vis = o3d.visualization.Visualizer()\n",
    "    vis.create_window(visible=to_screen)\n",
    "    vis.add_geometry(o3d_pcd)\n",
    "    vis.update_geometry(o3d_pcd)\n",
    "    vis.poll_events()\n",
    "    vis.update_renderer()\n",
    "    vis.capture_screen_image(path)\n",
    "    vis.destroy_window()"
   ],
   "metadata": {
    "collapsed": false
   }
  },
  {
   "cell_type": "code",
   "execution_count": 14,
   "outputs": [],
   "source": [
    "pcd = get_pcd(0, 0, prediction_labels)\n",
    "visualize_pcl(pcd, \"output/overfit_endpoint_connector.png\", True)"
   ],
   "metadata": {
    "collapsed": false
   }
  },
  {
   "cell_type": "code",
   "execution_count": 53,
   "outputs": [],
   "source": [],
   "metadata": {
    "collapsed": false
   }
  },
  {
   "cell_type": "code",
   "execution_count": 47,
   "outputs": [],
   "source": [],
   "metadata": {
    "collapsed": false
   }
  }
 ],
 "metadata": {
  "kernelspec": {
   "display_name": "Python 3",
   "language": "python",
   "name": "python3"
  },
  "language_info": {
   "codemirror_mode": {
    "name": "ipython",
    "version": 2
   },
   "file_extension": ".py",
   "mimetype": "text/x-python",
   "name": "python",
   "nbconvert_exporter": "python",
   "pygments_lexer": "ipython2",
   "version": "2.7.6"
  }
 },
 "nbformat": 4,
 "nbformat_minor": 0
}
