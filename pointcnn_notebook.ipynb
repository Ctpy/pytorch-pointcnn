{
 "cells": [
  {
   "cell_type": "code",
   "execution_count": 1,
   "metadata": {
    "collapsed": true
   },
   "outputs": [],
   "source": [
    "from dataloader.wireharness_dataloader import WireHarnessModule"
   ]
  },
  {
   "cell_type": "code",
   "execution_count": 2,
   "outputs": [],
   "source": [
    "LABEL_PATH = \"F:\\wire_hareness_dataset\\data\\labels\\set2\"\n",
    "dl = WireHarnessModule(LABEL_PATH, batch_size=1)\n",
    "dl.setup(\"fit\")"
   ],
   "metadata": {
    "collapsed": false
   }
  },
  {
   "cell_type": "code",
   "execution_count": 3,
   "outputs": [
    {
     "name": "stdout",
     "output_type": "stream",
     "text": [
      "Train batches: 1\n",
      "Val batches: 4\n"
     ]
    }
   ],
   "source": [
    "train_set = dl.train_dataloader()\n",
    "val_set = dl.val_dataloader()\n",
    "print(\"Train batches:\", len(train_set))\n",
    "print(\"Val batches:\", len(val_set))"
   ],
   "metadata": {
    "collapsed": false
   }
  },
  {
   "cell_type": "code",
   "execution_count": 4,
   "outputs": [
    {
     "name": "stderr",
     "output_type": "stream",
     "text": [
      "\u001B[34m\u001B[1mwandb\u001B[0m: Currently logged in as: \u001B[33mctpy\u001B[0m (\u001B[33mctpy-tum\u001B[0m). Use \u001B[1m`wandb login --relogin`\u001B[0m to force relogin\n"
     ]
    }
   ],
   "source": [
    "from model.pointcnn import PointCNN\n",
    "from model.pointcnn_seg import PointCNNSeg\n",
    "import pytorch_lightning as pl\n",
    "from pytorch_lightning.loggers import WandbLogger\n",
    "import torch\n",
    "import wandb\n",
    "import numpy as np\n",
    "from pytorch_lightning.callbacks import ModelCheckpoint, EarlyStopping\n",
    "wandb.login()\n",
    "torch.set_float32_matmul_precision('medium')\n",
    "model = None"
   ],
   "metadata": {
    "collapsed": false
   }
  },
  {
   "cell_type": "code",
   "execution_count": 8,
   "outputs": [
    {
     "name": "stderr",
     "output_type": "stream",
     "text": [
      "C:\\Users\\Tung\\anaconda3\\envs\\pointcnn\\lib\\site-packages\\pytorch_lightning\\loggers\\wandb.py:395: UserWarning: There is a wandb run already in progress and newly created instances of `WandbLogger` will reuse this run. If this is not desired, call `wandb.finish()` before instantiating `WandbLogger`.\n",
      "  rank_zero_warn(\n"
     ]
    }
   ],
   "source": [
    "checkpoint_callback = ModelCheckpoint(dirpath=\"output/ckpt\", save_top_k=5, monitor=\"val_loss\")\n",
    "early_stop_callback = EarlyStopping(monitor=\"val_loss\", patience=10, mode=\"min\")\n",
    "model = PointCNNSeg(num_classes=3)\n",
    "wandb_logger = WandbLogger()"
   ],
   "metadata": {
    "collapsed": false
   }
  },
  {
   "cell_type": "code",
   "execution_count": 9,
   "outputs": [
    {
     "name": "stderr",
     "output_type": "stream",
     "text": [
      "GPU available: True (cuda), used: True\n",
      "TPU available: False, using: 0 TPU cores\n",
      "IPU available: False, using: 0 IPUs\n",
      "HPU available: False, using: 0 HPUs\n"
     ]
    }
   ],
   "source": [
    "trainer = pl.Trainer(max_epochs=600, accelerator='gpu', devices=1, logger=wandb_logger, log_every_n_steps=1, callbacks=[checkpoint_callback, early_stop_callback])"
   ],
   "metadata": {
    "collapsed": false
   }
  },
  {
   "cell_type": "code",
   "execution_count": null,
   "outputs": [
    {
     "name": "stderr",
     "output_type": "stream",
     "text": [
      "C:\\Users\\Tung\\anaconda3\\envs\\pointcnn\\lib\\site-packages\\pytorch_lightning\\callbacks\\model_checkpoint.py:612: UserWarning: Checkpoint directory C:\\Users\\Tung\\PycharmProjects\\pointcnn\\output\\ckpt exists and is not empty.\n",
      "  rank_zero_warn(f\"Checkpoint directory {dirpath} exists and is not empty.\")\n",
      "LOCAL_RANK: 0 - CUDA_VISIBLE_DEVICES: [0]\n",
      "\n",
      "   | Name           | Type               | Params\n",
      "-------------------------------------------------------\n",
      "0  | conv1          | XConv              | 9.2 K \n",
      "1  | conv2          | XConv              | 42.7 K\n",
      "2  | conv3          | XConv              | 148 K \n",
      "3  | conv4          | XConv              | 512 K \n",
      "4  | conv_up4       | XConv              | 648 K \n",
      "5  | conv_up3       | XConv              | 253 K \n",
      "6  | conv_up2       | XConv              | 69.8 K\n",
      "7  | conv_up1       | XConv              | 21.9 K\n",
      "8  | mlp_out4       | Conv1d             | 262 K \n",
      "9  | mlp_out3       | Conv1d             | 65.8 K\n",
      "10 | mlp_out2       | Conv1d             | 16.5 K\n",
      "11 | mlp_out1       | Conv1d             | 4.2 K \n",
      "12 | fc_layer1      | Conv1d             | 8.2 K \n",
      "13 | Relu           | ReLU               | 0     \n",
      "14 | DROP           | Dropout            | 0     \n",
      "15 | fc_layer2      | Conv1d             | 387   \n",
      "16 | train_accuracy | MulticlassAccuracy | 0     \n",
      "17 | val_accuary    | MulticlassAccuracy | 0     \n",
      "18 | test_accuracy  | MulticlassAccuracy | 0     \n",
      "-------------------------------------------------------\n",
      "2.1 M     Trainable params\n",
      "0         Non-trainable params\n",
      "2.1 M     Total params\n",
      "8.260     Total estimated model params size (MB)\n"
     ]
    },
    {
     "data": {
      "text/plain": "Sanity Checking: 0it [00:00, ?it/s]",
      "application/vnd.jupyter.widget-view+json": {
       "version_major": 2,
       "version_minor": 0,
       "model_id": "3163f784a2f54203b78bfe8c28006cb0"
      }
     },
     "metadata": {},
     "output_type": "display_data"
    },
    {
     "name": "stderr",
     "output_type": "stream",
     "text": [
      "C:\\Users\\Tung\\anaconda3\\envs\\pointcnn\\lib\\site-packages\\pytorch_lightning\\trainer\\connectors\\data_connector.py:224: PossibleUserWarning: The dataloader, val_dataloader 0, does not have many workers which may be a bottleneck. Consider increasing the value of the `num_workers` argument` (try 32 which is the number of cpus on this machine) in the `DataLoader` init to improve performance.\n",
      "  rank_zero_warn(\n",
      "C:\\Users\\Tung\\anaconda3\\envs\\pointcnn\\lib\\site-packages\\pytorch_lightning\\trainer\\connectors\\data_connector.py:224: PossibleUserWarning: The dataloader, train_dataloader, does not have many workers which may be a bottleneck. Consider increasing the value of the `num_workers` argument` (try 32 which is the number of cpus on this machine) in the `DataLoader` init to improve performance.\n",
      "  rank_zero_warn(\n"
     ]
    },
    {
     "data": {
      "text/plain": "Training: 0it [00:00, ?it/s]",
      "application/vnd.jupyter.widget-view+json": {
       "version_major": 2,
       "version_minor": 0,
       "model_id": "3d3ccf4fc63949b2808caea346667002"
      }
     },
     "metadata": {},
     "output_type": "display_data"
    },
    {
     "data": {
      "text/plain": "Validation: 0it [00:00, ?it/s]",
      "application/vnd.jupyter.widget-view+json": {
       "version_major": 2,
       "version_minor": 0,
       "model_id": "c9b836bdaf604373a774ef32e6d6bcf8"
      }
     },
     "metadata": {},
     "output_type": "display_data"
    }
   ],
   "source": [
    "trainer.fit(model, train_dataloaders=train_set, val_dataloaders=val_set)"
   ],
   "metadata": {
    "collapsed": false,
    "pycharm": {
     "is_executing": true
    }
   }
  },
  {
   "cell_type": "code",
   "execution_count": 8,
   "outputs": [
    {
     "ename": "RuntimeError",
     "evalue": "Error(s) in loading state_dict for PointCNNSeg:\n\tMissing key(s) in state_dict: \"fc_layer1.weight\", \"fc_layer2.weight\", \"fc_layer2.bias\". \n\tUnexpected key(s) in state_dict: \"fc_lyaer1.weight\", \"fc_lyaer2.weight\", \"fc_lyaer2.bias\". ",
     "output_type": "error",
     "traceback": [
      "\u001B[1;31m---------------------------------------------------------------------------\u001B[0m",
      "\u001B[1;31mRuntimeError\u001B[0m                              Traceback (most recent call last)",
      "Cell \u001B[1;32mIn[8], line 2\u001B[0m\n\u001B[0;32m      1\u001B[0m checkpoint \u001B[38;5;241m=\u001B[39m torch\u001B[38;5;241m.\u001B[39mload(\u001B[38;5;124m\"\u001B[39m\u001B[38;5;124mC:\u001B[39m\u001B[38;5;130;01m\\\\\u001B[39;00m\u001B[38;5;124mUsers\u001B[39m\u001B[38;5;124m\\\u001B[39m\u001B[38;5;124mTung\u001B[39m\u001B[38;5;124m\\\u001B[39m\u001B[38;5;124mPycharmProjects\u001B[39m\u001B[38;5;124m\\\u001B[39m\u001B[38;5;124mpointcnn\u001B[39m\u001B[38;5;124m\\\u001B[39m\u001B[38;5;124mlightning_logs\u001B[39m\u001B[38;5;124m\\\u001B[39m\u001B[38;5;124mekh4l5px\u001B[39m\u001B[38;5;124m\\\u001B[39m\u001B[38;5;124mcheckpoints\u001B[39m\u001B[38;5;124m\\\u001B[39m\u001B[38;5;124mepoch=599-step=600.ckpt\u001B[39m\u001B[38;5;124m\"\u001B[39m)\n\u001B[1;32m----> 2\u001B[0m \u001B[43mmodel\u001B[49m\u001B[38;5;241;43m.\u001B[39;49m\u001B[43mload_state_dict\u001B[49m\u001B[43m(\u001B[49m\u001B[43mcheckpoint\u001B[49m\u001B[43m[\u001B[49m\u001B[38;5;124;43m'\u001B[39;49m\u001B[38;5;124;43mstate_dict\u001B[39;49m\u001B[38;5;124;43m'\u001B[39;49m\u001B[43m]\u001B[49m\u001B[43m)\u001B[49m\n\u001B[0;32m      3\u001B[0m prediction \u001B[38;5;241m=\u001B[39m trainer\u001B[38;5;241m.\u001B[39mpredict(model, dataloaders\u001B[38;5;241m=\u001B[39mtrain_set)\n",
      "File \u001B[1;32m~\\anaconda3\\envs\\pointcnn\\lib\\site-packages\\torch\\nn\\modules\\module.py:1604\u001B[0m, in \u001B[0;36mModule.load_state_dict\u001B[1;34m(self, state_dict, strict)\u001B[0m\n\u001B[0;32m   1599\u001B[0m         error_msgs\u001B[38;5;241m.\u001B[39minsert(\n\u001B[0;32m   1600\u001B[0m             \u001B[38;5;241m0\u001B[39m, \u001B[38;5;124m'\u001B[39m\u001B[38;5;124mMissing key(s) in state_dict: \u001B[39m\u001B[38;5;132;01m{}\u001B[39;00m\u001B[38;5;124m. \u001B[39m\u001B[38;5;124m'\u001B[39m\u001B[38;5;241m.\u001B[39mformat(\n\u001B[0;32m   1601\u001B[0m                 \u001B[38;5;124m'\u001B[39m\u001B[38;5;124m, \u001B[39m\u001B[38;5;124m'\u001B[39m\u001B[38;5;241m.\u001B[39mjoin(\u001B[38;5;124m'\u001B[39m\u001B[38;5;124m\"\u001B[39m\u001B[38;5;132;01m{}\u001B[39;00m\u001B[38;5;124m\"\u001B[39m\u001B[38;5;124m'\u001B[39m\u001B[38;5;241m.\u001B[39mformat(k) \u001B[38;5;28;01mfor\u001B[39;00m k \u001B[38;5;129;01min\u001B[39;00m missing_keys)))\n\u001B[0;32m   1603\u001B[0m \u001B[38;5;28;01mif\u001B[39;00m \u001B[38;5;28mlen\u001B[39m(error_msgs) \u001B[38;5;241m>\u001B[39m \u001B[38;5;241m0\u001B[39m:\n\u001B[1;32m-> 1604\u001B[0m     \u001B[38;5;28;01mraise\u001B[39;00m \u001B[38;5;167;01mRuntimeError\u001B[39;00m(\u001B[38;5;124m'\u001B[39m\u001B[38;5;124mError(s) in loading state_dict for \u001B[39m\u001B[38;5;132;01m{}\u001B[39;00m\u001B[38;5;124m:\u001B[39m\u001B[38;5;130;01m\\n\u001B[39;00m\u001B[38;5;130;01m\\t\u001B[39;00m\u001B[38;5;132;01m{}\u001B[39;00m\u001B[38;5;124m'\u001B[39m\u001B[38;5;241m.\u001B[39mformat(\n\u001B[0;32m   1605\u001B[0m                        \u001B[38;5;28mself\u001B[39m\u001B[38;5;241m.\u001B[39m\u001B[38;5;18m__class__\u001B[39m\u001B[38;5;241m.\u001B[39m\u001B[38;5;18m__name__\u001B[39m, \u001B[38;5;124m\"\u001B[39m\u001B[38;5;130;01m\\n\u001B[39;00m\u001B[38;5;130;01m\\t\u001B[39;00m\u001B[38;5;124m\"\u001B[39m\u001B[38;5;241m.\u001B[39mjoin(error_msgs)))\n\u001B[0;32m   1606\u001B[0m \u001B[38;5;28;01mreturn\u001B[39;00m _IncompatibleKeys(missing_keys, unexpected_keys)\n",
      "\u001B[1;31mRuntimeError\u001B[0m: Error(s) in loading state_dict for PointCNNSeg:\n\tMissing key(s) in state_dict: \"fc_layer1.weight\", \"fc_layer2.weight\", \"fc_layer2.bias\". \n\tUnexpected key(s) in state_dict: \"fc_lyaer1.weight\", \"fc_lyaer2.weight\", \"fc_lyaer2.bias\". "
     ]
    }
   ],
   "source": [
    "checkpoint = torch.load(\"C:\\\\Users\\Tung\\PycharmProjects\\pointcnn\\lightning_logs\\ekh4l5px\\checkpoints\\epoch=599-step=600.ckpt\")\n",
    "model.load_state_dict(checkpoint['state_dict'])\n",
    "prediction = trainer.predict(model, dataloaders=train_set)"
   ],
   "metadata": {
    "collapsed": false
   }
  },
  {
   "cell_type": "code",
   "execution_count": 11,
   "outputs": [
    {
     "name": "stdout",
     "output_type": "stream",
     "text": [
      "[tensor([[1, 1, 0,  ..., 3, 0, 3]])]\n"
     ]
    }
   ],
   "source": [
    "print(prediction)\n",
    "prediction_labels = np.asarray(prediction[0].tolist()[0])"
   ],
   "metadata": {
    "collapsed": false
   }
  },
  {
   "cell_type": "code",
   "execution_count": 12,
   "outputs": [],
   "source": [
    "COLORS = np.array([\n",
    "    [0.5, 0.5, 0.5],         # wire\n",
    "    [1.0, 0.0, 0.0],         # endpoint\n",
    "    [0.0, 1.0, 0.0],         # bifurcation\n",
    "    [0.0, 0.0, 1.0],         # connector\n",
    "    [0.5, 0.5, 0.5]          # none\n",
    "])\n",
    "COLORS = np.array([\n",
    "    [0.5, 0.5, 0.5],         # wire\n",
    "    [1.0, 0.0, 0.0],         # endpoint\n",
    "    [0.0, 1.0, 0.0],         # bifurcation\n",
    "    [1.0, 0.0, 0.0],         # connector\n",
    "    [0.5, 0.5, 0.5]          # none\n",
    "])"
   ],
   "metadata": {
    "collapsed": false
   }
  },
  {
   "cell_type": "code",
   "execution_count": 13,
   "outputs": [
    {
     "name": "stdout",
     "output_type": "stream",
     "text": [
      "Jupyter environment detected. Enabling Open3D WebVisualizer.\n",
      "[Open3D INFO] WebRTC GUI backend enabled.\n",
      "[Open3D INFO] WebRTCWindowSystem: HTTP handshake server disabled.\n"
     ]
    }
   ],
   "source": [
    "import open3d as o3d\n",
    "def get_pcd(wh_id, sample_id, labels):\n",
    "    coords = np.load(LABEL_PATH + \"\\\\{:03d}\\\\pointclouds_normed_2048\\\\pcl_{:04d}.npy\".format(wh_id,sample_id))\n",
    "    # labels = np.load(LABEL_PATH + \"\\\\{:03d}\\\\segmentation_normed_2048\\\\seg_{:04d}.npy\".format(wh_id,sample_id))\n",
    "    pcl = o3d.geometry.PointCloud()\n",
    "    pcl.points = o3d.utility.Vector3dVector(coords)\n",
    "    pcl.colors = o3d.utility.Vector3dVector(COLORS[labels])\n",
    "\n",
    "    return pcl\n",
    "\n",
    "def visualize_pcl(o3d_pcd, path, to_screen=False):\n",
    "    vis = o3d.visualization.Visualizer()\n",
    "    vis.create_window(visible=to_screen)\n",
    "    vis.add_geometry(o3d_pcd)\n",
    "    vis.update_geometry(o3d_pcd)\n",
    "    vis.poll_events()\n",
    "    vis.update_renderer()\n",
    "    vis.capture_screen_image(path)\n",
    "    vis.destroy_window()"
   ],
   "metadata": {
    "collapsed": false
   }
  },
  {
   "cell_type": "code",
   "execution_count": 14,
   "outputs": [],
   "source": [
    "pcd = get_pcd(0, 0, prediction_labels)\n",
    "visualize_pcl(pcd, \"output/overfit_endpoint_connector.png\", True)"
   ],
   "metadata": {
    "collapsed": false
   }
  },
  {
   "cell_type": "code",
   "execution_count": 53,
   "outputs": [],
   "source": [],
   "metadata": {
    "collapsed": false
   }
  },
  {
   "cell_type": "code",
   "execution_count": 47,
   "outputs": [],
   "source": [],
   "metadata": {
    "collapsed": false
   }
  }
 ],
 "metadata": {
  "kernelspec": {
   "display_name": "Python 3",
   "language": "python",
   "name": "python3"
  },
  "language_info": {
   "codemirror_mode": {
    "name": "ipython",
    "version": 2
   },
   "file_extension": ".py",
   "mimetype": "text/x-python",
   "name": "python",
   "nbconvert_exporter": "python",
   "pygments_lexer": "ipython2",
   "version": "2.7.6"
  }
 },
 "nbformat": 4,
 "nbformat_minor": 0
}
